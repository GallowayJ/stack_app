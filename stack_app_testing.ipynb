{
 "cells": [
  {
   "cell_type": "markdown",
   "metadata": {},
   "source": [
    "# Testing area"
   ]
  },
  {
   "cell_type": "code",
   "execution_count": 1,
   "metadata": {},
   "outputs": [],
   "source": [
    "import requests"
   ]
  },
  {
   "cell_type": "code",
   "execution_count": 2,
   "metadata": {},
   "outputs": [],
   "source": [
    "with open('user_id.secrets', 'r') as f:\n",
    "    USER_ID = f.read().rstrip('\\n') # Get user ID and remove newline character"
   ]
  },
  {
   "cell_type": "code",
   "execution_count": 3,
   "metadata": {},
   "outputs": [],
   "source": [
    "BASEURL = f\"https://api.stackexchange.com/2.2/users/{USER_ID}/favorites\"\n",
    "\n",
    "params = {\n",
    "  \"site\" : \"stackoverflow\"\n",
    "}\n",
    "\n",
    "r = requests.get(BASEURL, params=params)\n",
    "#print(r.json())"
   ]
  },
  {
   "cell_type": "markdown",
   "metadata": {},
   "source": [
    "# Stack App"
   ]
  },
  {
   "cell_type": "code",
   "execution_count": null,
   "metadata": {},
   "outputs": [],
   "source": [
    "### To Do ###\n",
    "\n",
    "# Get question IDs\n",
    "# Get answers\n",
    "# Create filter to only return info needed\n",
    "# Store questions and answers together (in a dict? potential to add other useful info)\n",
    "\n",
    "# Later: make code more robust, i.e. check GET request was sucessful, user ID was a number etc."
   ]
  },
  {
   "cell_type": "code",
   "execution_count": 4,
   "metadata": {},
   "outputs": [],
   "source": [
    "import requests\n",
    "\n",
    "class Favourites:\n",
    "    \"\"\"A class which contains all of a users favourited questions and answers\"\"\"\n",
    "    \n",
    "    def __init__(self, user_id, site):\n",
    "        self.user_id = user_id\n",
    "        self.site = site\n",
    "    \n",
    "    def get_favourited_questions(self):\n",
    "        BASE_URL = f\"https://api.stackexchange.com/2.2/users/{self.user_id}/favorites\" # Base url for Stack Exchange api v2.2\n",
    "        params = {}\n",
    "        params['site'] = self.site\n",
    "        favourites = requests.get(BASE_URL, params=params)\n",
    "        favourites_json = favourites.json()\n",
    "        favourite_questions = []\n",
    "        [favourite_questions.append(question_title.get('title')) for question_title in favourites_json['items']]\n",
    "        self.favourite_questions = favourite_questions    "
   ]
  },
  {
   "cell_type": "code",
   "execution_count": 5,
   "metadata": {},
   "outputs": [],
   "source": [
    "test_favs = Favourites(USER_ID, 'stackoverflow')"
   ]
  },
  {
   "cell_type": "code",
   "execution_count": 6,
   "metadata": {},
   "outputs": [],
   "source": [
    "test_favs.get_favourited_questions()"
   ]
  },
  {
   "cell_type": "code",
   "execution_count": 7,
   "metadata": {},
   "outputs": [
    {
     "data": {
      "text/plain": [
       "['Add regression line equation and R^2 on graph',\n",
       " 'How can I strip the whitespace from Pandas DataFrame headers?',\n",
       " 'How to make good reproducible pandas examples',\n",
       " 'Jupyter notebook display two pandas tables side by side',\n",
       " 'How do I check what version of Python is running my script?',\n",
       " 'How to check if string input is a number?',\n",
       " 'What does the &quot;yield&quot; keyword do?',\n",
       " 'Convert Python dict into a dataframe',\n",
       " 'How to change the remote a branch is tracking?',\n",
       " 'How to upgrade all Python packages with pip?',\n",
       " 'How do I revert a Git repository to a previous commit?',\n",
       " 'Choosing the correct upper and lower HSV boundaries for color detection with`cv::inRange` (OpenCV)',\n",
       " 'How to put the legend out of the plot',\n",
       " 'Change data type of columns in Pandas',\n",
       " 'Pretty-print an entire Pandas Series / DataFrame',\n",
       " 'How do I exit the Vim editor?',\n",
       " 'How to check version of python modules?',\n",
       " 'How do you split a list into evenly sized chunks?',\n",
       " 'Determine installed PowerShell version',\n",
       " 'How do I commit case-sensitive only filename changes in Git?',\n",
       " 'How do I find all files containing specific text on Linux?',\n",
       " 'How do I start PowerShell from Windows Explorer?',\n",
       " 'How to install both Python 2.x and Python 3.x in Windows',\n",
       " 'How to change the order of DataFrame columns?',\n",
       " 'Viewing all defined variables',\n",
       " 'How can I generate a colormap array from a simple array in matplotlib',\n",
       " 'Alphabet range in Python',\n",
       " 'Check if pull needed in Git',\n",
       " 'Changing the &quot;tick frequency&quot; on x or y axis in matplotlib?',\n",
       " 'Renaming columns in pandas']"
      ]
     },
     "execution_count": 7,
     "metadata": {},
     "output_type": "execute_result"
    }
   ],
   "source": [
    "test_favs.favourite_questions"
   ]
  }
 ],
 "metadata": {
  "kernelspec": {
   "display_name": "Python 3",
   "language": "python",
   "name": "python3"
  },
  "language_info": {
   "codemirror_mode": {
    "name": "ipython",
    "version": 3
   },
   "file_extension": ".py",
   "mimetype": "text/x-python",
   "name": "python",
   "nbconvert_exporter": "python",
   "pygments_lexer": "ipython3",
   "version": "3.7.6"
  }
 },
 "nbformat": 4,
 "nbformat_minor": 4
}
